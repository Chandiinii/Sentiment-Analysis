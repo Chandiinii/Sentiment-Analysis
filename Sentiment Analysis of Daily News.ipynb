{
 "cells": [
  {
   "cell_type": "markdown",
   "id": "b7f58259",
   "metadata": {},
   "source": [
    "## Sentiment Analysis of Daily News"
   ]
  },
  {
   "cell_type": "code",
   "execution_count": 1,
   "id": "e66e1d6e",
   "metadata": {},
   "outputs": [],
   "source": [
    "#Import Data Analysis package\n",
    "import matplotlib.pyplot as plt\n",
    "plt.style.use(\"fivethirtyeight\")"
   ]
  },
  {
   "cell_type": "code",
   "execution_count": 2,
   "id": "abf4a993",
   "metadata": {},
   "outputs": [],
   "source": [
    "#Fetching news\n",
    "from sklearn.datasets import fetch_20newsgroups"
   ]
  },
  {
   "cell_type": "code",
   "execution_count": 3,
   "id": "fd87d554",
   "metadata": {},
   "outputs": [],
   "source": [
    "# Creating Data\n",
    "text_data = fetch_20newsgroups()"
   ]
  },
  {
   "cell_type": "code",
   "execution_count": 4,
   "id": "cd790ebb",
   "metadata": {},
   "outputs": [
    {
     "data": {
      "text/plain": [
       "sklearn.utils.Bunch"
      ]
     },
     "execution_count": 4,
     "metadata": {},
     "output_type": "execute_result"
    }
   ],
   "source": [
    "type(text_data)"
   ]
  },
  {
   "cell_type": "code",
   "execution_count": 43,
   "id": "4cfffd23",
   "metadata": {},
   "outputs": [
    {
     "data": {
      "text/plain": [
       "[\"From: lerxst@wam.umd.edu (where's my thing)\\nSubject: WHAT car is this!?\\nNntp-Posting-Host: rac3.wam.umd.edu\\nOrganization: University of Maryland, College Park\\nLines: 15\\n\\n I was wondering if anyone out there could enlighten me on this car I saw\\nthe other day. It was a 2-door sports car, looked to be from the late 60s/\\nearly 70s. It was called a Bricklin. The doors were really small. In addition,\\nthe front bumper was separate from the rest of the body. This is \\nall I know. If anyone can tellme a model name, engine specs, years\\nof production, where this car is made, history, or whatever info you\\nhave on this funky looking car, please e-mail.\\n\\nThanks,\\n- IL\\n   ---- brought to you by your neighborhood Lerxst ----\\n\\n\\n\\n\\n\"]"
      ]
     },
     "execution_count": 43,
     "metadata": {},
     "output_type": "execute_result"
    }
   ],
   "source": [
    "raw_text= text_data.data[:1]\n",
    "raw_text"
   ]
  },
  {
   "cell_type": "code",
   "execution_count": 6,
   "id": "2eb59fd2",
   "metadata": {},
   "outputs": [],
   "source": [
    "#Stage 1 convert to lower text\n",
    "clean_text_1 = []\n",
    "def to_lower_case(data):\n",
    "    for words in raw_text:\n",
    "        clean_text_1.append(str.lower(words))"
   ]
  },
  {
   "cell_type": "code",
   "execution_count": 7,
   "id": "cdb5229c",
   "metadata": {},
   "outputs": [],
   "source": [
    "to_lower_case(raw_text)"
   ]
  },
  {
   "cell_type": "code",
   "execution_count": 44,
   "id": "8c13722f",
   "metadata": {},
   "outputs": [
    {
     "data": {
      "text/plain": [
       "[\"from: lerxst@wam.umd.edu (where's my thing)\\nsubject: what car is this!?\\nnntp-posting-host: rac3.wam.umd.edu\\norganization: university of maryland, college park\\nlines: 15\\n\\n i was wondering if anyone out there could enlighten me on this car i saw\\nthe other day. it was a 2-door sports car, looked to be from the late 60s/\\nearly 70s. it was called a bricklin. the doors were really small. in addition,\\nthe front bumper was separate from the rest of the body. this is \\nall i know. if anyone can tellme a model name, engine specs, years\\nof production, where this car is made, history, or whatever info you\\nhave on this funky looking car, please e-mail.\\n\\nthanks,\\n- il\\n   ---- brought to you by your neighborhood lerxst ----\\n\\n\\n\\n\\n\"]"
      ]
     },
     "execution_count": 44,
     "metadata": {},
     "output_type": "execute_result"
    }
   ],
   "source": [
    "clean_text_1[:1]"
   ]
  },
  {
   "cell_type": "code",
   "execution_count": 10,
   "id": "030278ff",
   "metadata": {},
   "outputs": [
    {
     "name": "stderr",
     "output_type": "stream",
     "text": [
      "[nltk_data] Downloading package punkt to\n",
      "[nltk_data]     C:\\Users\\Maneesh\\AppData\\Roaming\\nltk_data...\n",
      "[nltk_data]   Package punkt is already up-to-date!\n"
     ]
    },
    {
     "data": {
      "text/plain": [
       "True"
      ]
     },
     "execution_count": 10,
     "metadata": {},
     "output_type": "execute_result"
    }
   ],
   "source": [
    "#Stage 2 Tokenize\n",
    "clean_text_2 =[]\n",
    "from nltk.tokenize import sent_tokenize, word_tokenize\n",
    "import nltk\n",
    "nltk.download('punkt')"
   ]
  },
  {
   "cell_type": "code",
   "execution_count": 11,
   "id": "d4bd1477",
   "metadata": {},
   "outputs": [],
   "source": [
    "sent_tok = []\n",
    "for sent in clean_text_1 :\n",
    "    sent = sent_tokenize(sent)\n",
    "    sent_tok.append(sent)\n",
    "    "
   ]
  },
  {
   "cell_type": "code",
   "execution_count": 12,
   "id": "31661162",
   "metadata": {},
   "outputs": [
    {
     "data": {
      "text/plain": [
       "[[\"from: lerxst@wam.umd.edu (where's my thing)\\nsubject: what car is this!?\",\n",
       "  'nntp-posting-host: rac3.wam.umd.edu\\norganization: university of maryland, college park\\nlines: 15\\n\\n i was wondering if anyone out there could enlighten me on this car i saw\\nthe other day.',\n",
       "  'it was a 2-door sports car, looked to be from the late 60s/\\nearly 70s.',\n",
       "  'it was called a bricklin.',\n",
       "  'the doors were really small.',\n",
       "  'in addition,\\nthe front bumper was separate from the rest of the body.',\n",
       "  'this is \\nall i know.',\n",
       "  'if anyone can tellme a model name, engine specs, years\\nof production, where this car is made, history, or whatever info you\\nhave on this funky looking car, please e-mail.',\n",
       "  'thanks,\\n- il\\n   ---- brought to you by your neighborhood lerxst ----'],\n",
       " ['from: guykuo@carson.u.washington.edu (guy kuo)\\nsubject: si clock poll - final call\\nsummary: final call for si clock reports\\nkeywords: si,acceleration,clock,upgrade\\narticle-i.d.',\n",
       "  ': shelley.1qvfo9innc3s\\norganization: university of washington\\nlines: 11\\nnntp-posting-host: carson.u.washington.edu\\n\\na fair number of brave souls who upgraded their si clock oscillator have\\nshared their experiences for this poll.',\n",
       "  'please send a brief message detailing\\nyour experiences with the procedure.',\n",
       "  'top speed attained, cpu rated speed,\\nadd on cards and adapters, heat sinks, hour of usage per day, floppy disk\\nfunctionality with 800 and 1.4 m floppies are especially requested.',\n",
       "  \"i will be summarizing in the next two days, so please add to the network\\nknowledge base if you have done the clock upgrade and haven't answered this\\npoll.\",\n",
       "  'thanks.',\n",
       "  'guy kuo <guykuo@u.washington.edu>'],\n",
       " [\"from: twillis@ec.ecn.purdue.edu (thomas e willis)\\nsubject: pb questions...\\norganization: purdue university engineering computer network\\ndistribution: usa\\nlines: 36\\n\\nwell folks, my mac plus finally gave up the ghost this weekend after\\nstarting life as a 512k way back in 1985.  sooo, i'm in the market for a\\nnew machine a bit sooner than i intended to be...\\n\\ni'm looking into picking up a powerbook 160 or maybe 180 and have a bunch\\nof questions that (hopefully) somebody can answer:\\n\\n* does anybody know any dirt on when the next round of powerbook\\nintroductions are expected?\",\n",
       "  'i\\'d heard the 185c was supposed to make an\\nappearence \"this summer\" but haven\\'t heard anymore on it - and since i\\ndon\\'t have access to macleak, i was wondering if anybody out there had\\nmore info...\\n\\n* has anybody heard rumors about price drops to the powerbook line like the\\nones the duo\\'s just went through recently?',\n",
       "  \"* what's the impression of the display on the 180?\",\n",
       "  'i could probably swing\\na 180 if i got the 80mb disk rather than the 120, but i don\\'t really have\\na feel for how much \"better\" the display is (yea, it looks great in the\\nstore, but is that all \"wow\" or is it really that good?).',\n",
       "  'could i solicit\\nsome opinions of people who use the 160 and 180 day-to-day on if its worth\\ntaking the disk size and money hit to get the active display?',\n",
       "  \"(i realize\\nthis is a real subjective question, but i've only played around with the\\nmachines in a computer store breifly and figured the opinions of somebody\\nwho actually uses the machine daily might prove helpful).\",\n",
       "  '* how well does hellcats perform?',\n",
       "  ';)\\n\\nthanks a bunch in advance for any info - if you could email, i\\'ll post a\\nsummary (news reading time is at a premium with finals just around the\\ncorner... :( )\\n--\\ntom willis  \\\\  twillis@ecn.purdue.edu    \\\\    purdue electrical engineering\\n---------------------------------------------------------------------------\\n\"convictions are more dangerous enemies of truth than lies.\"',\n",
       "  '- f. w.\\nnietzsche'],\n",
       " ['from: jgreen@amber (joe green)\\nsubject: re: weitek p9000 ?',\n",
       "  'organization: harris computer systems division\\nlines: 14\\ndistribution: world\\nnntp-posting-host: amber.ssd.csd.harris.com\\nx-newsreader: tin [version 1.1 pl9]\\n\\nrobert j.c. kyanko (rob@rjck.uucp) wrote:\\n> abraxis@iastate.edu writes in article <abraxis.734340159@class1.iastate.edu>:\\n> > anyone know about the weitek p9000 graphics chip?',\n",
       "  '> as far as the low-level stuff goes, it looks pretty nice.',\n",
       "  \"it's got this\\n> quadrilateral fill command that requires just the four points.\",\n",
       "  \"do you have weitek's address/phone number?\",\n",
       "  \"i'd like to get some information\\nabout this chip.\",\n",
       "  '--\\njoe green\\t\\t\\t\\tharris corporation\\njgreen@csd.harris.com\\t\\t\\tcomputer systems division\\n\"the only thing that really scares me is a person with no sense of humor.\"',\n",
       "  '-- jonathan winters']]"
      ]
     },
     "execution_count": 12,
     "metadata": {},
     "output_type": "execute_result"
    }
   ],
   "source": [
    "sent_tok"
   ]
  },
  {
   "cell_type": "code",
   "execution_count": 13,
   "id": "c4fc953b",
   "metadata": {},
   "outputs": [],
   "source": [
    "#Word tokenize\n",
    "clean_text_2 = [ word_tokenize(i) for i in clean_text_1]"
   ]
  },
  {
   "cell_type": "code",
   "execution_count": 45,
   "id": "86223386",
   "metadata": {},
   "outputs": [
    {
     "data": {
      "text/plain": [
       "[['from',\n",
       "  ':',\n",
       "  'lerxst',\n",
       "  '@',\n",
       "  'wam.umd.edu',\n",
       "  '(',\n",
       "  'where',\n",
       "  \"'s\",\n",
       "  'my',\n",
       "  'thing',\n",
       "  ')',\n",
       "  'subject',\n",
       "  ':',\n",
       "  'what',\n",
       "  'car',\n",
       "  'is',\n",
       "  'this',\n",
       "  '!',\n",
       "  '?',\n",
       "  'nntp-posting-host',\n",
       "  ':',\n",
       "  'rac3.wam.umd.edu',\n",
       "  'organization',\n",
       "  ':',\n",
       "  'university',\n",
       "  'of',\n",
       "  'maryland',\n",
       "  ',',\n",
       "  'college',\n",
       "  'park',\n",
       "  'lines',\n",
       "  ':',\n",
       "  '15',\n",
       "  'i',\n",
       "  'was',\n",
       "  'wondering',\n",
       "  'if',\n",
       "  'anyone',\n",
       "  'out',\n",
       "  'there',\n",
       "  'could',\n",
       "  'enlighten',\n",
       "  'me',\n",
       "  'on',\n",
       "  'this',\n",
       "  'car',\n",
       "  'i',\n",
       "  'saw',\n",
       "  'the',\n",
       "  'other',\n",
       "  'day',\n",
       "  '.',\n",
       "  'it',\n",
       "  'was',\n",
       "  'a',\n",
       "  '2-door',\n",
       "  'sports',\n",
       "  'car',\n",
       "  ',',\n",
       "  'looked',\n",
       "  'to',\n",
       "  'be',\n",
       "  'from',\n",
       "  'the',\n",
       "  'late',\n",
       "  '60s/',\n",
       "  'early',\n",
       "  '70s',\n",
       "  '.',\n",
       "  'it',\n",
       "  'was',\n",
       "  'called',\n",
       "  'a',\n",
       "  'bricklin',\n",
       "  '.',\n",
       "  'the',\n",
       "  'doors',\n",
       "  'were',\n",
       "  'really',\n",
       "  'small',\n",
       "  '.',\n",
       "  'in',\n",
       "  'addition',\n",
       "  ',',\n",
       "  'the',\n",
       "  'front',\n",
       "  'bumper',\n",
       "  'was',\n",
       "  'separate',\n",
       "  'from',\n",
       "  'the',\n",
       "  'rest',\n",
       "  'of',\n",
       "  'the',\n",
       "  'body',\n",
       "  '.',\n",
       "  'this',\n",
       "  'is',\n",
       "  'all',\n",
       "  'i',\n",
       "  'know',\n",
       "  '.',\n",
       "  'if',\n",
       "  'anyone',\n",
       "  'can',\n",
       "  'tellme',\n",
       "  'a',\n",
       "  'model',\n",
       "  'name',\n",
       "  ',',\n",
       "  'engine',\n",
       "  'specs',\n",
       "  ',',\n",
       "  'years',\n",
       "  'of',\n",
       "  'production',\n",
       "  ',',\n",
       "  'where',\n",
       "  'this',\n",
       "  'car',\n",
       "  'is',\n",
       "  'made',\n",
       "  ',',\n",
       "  'history',\n",
       "  ',',\n",
       "  'or',\n",
       "  'whatever',\n",
       "  'info',\n",
       "  'you',\n",
       "  'have',\n",
       "  'on',\n",
       "  'this',\n",
       "  'funky',\n",
       "  'looking',\n",
       "  'car',\n",
       "  ',',\n",
       "  'please',\n",
       "  'e-mail',\n",
       "  '.',\n",
       "  'thanks',\n",
       "  ',',\n",
       "  '-',\n",
       "  'il',\n",
       "  '--',\n",
       "  '--',\n",
       "  'brought',\n",
       "  'to',\n",
       "  'you',\n",
       "  'by',\n",
       "  'your',\n",
       "  'neighborhood',\n",
       "  'lerxst',\n",
       "  '--',\n",
       "  '--']]"
      ]
     },
     "execution_count": 45,
     "metadata": {},
     "output_type": "execute_result"
    }
   ],
   "source": [
    "clean_text_2[:1]"
   ]
  },
  {
   "cell_type": "code",
   "execution_count": 16,
   "id": "8a0733cb",
   "metadata": {},
   "outputs": [],
   "source": [
    "import re\n",
    "clean_text_3 =[]\n",
    "\n",
    "for words in clean_text_2:\n",
    "    clean= []\n",
    "for w in words :\n",
    "    res = re.sub(r'[^\\w\\s]' ,\"\", w)\n",
    "    if res != \"\":\n",
    "        clean.append(res)\n",
    "    clean_text_3.append(clean)  "
   ]
  },
  {
   "cell_type": "code",
   "execution_count": 46,
   "id": "013fb6ea",
   "metadata": {},
   "outputs": [
    {
     "data": {
      "text/plain": [
       "[['from',\n",
       "  'jgreen',\n",
       "  'amber',\n",
       "  'joe',\n",
       "  'green',\n",
       "  'subject',\n",
       "  're',\n",
       "  'weitek',\n",
       "  'p9000',\n",
       "  'organization',\n",
       "  'harris',\n",
       "  'computer',\n",
       "  'systems',\n",
       "  'division',\n",
       "  'lines',\n",
       "  '14',\n",
       "  'distribution',\n",
       "  'world',\n",
       "  'nntppostinghost',\n",
       "  'amberssdcsdharriscom',\n",
       "  'xnewsreader',\n",
       "  'tin',\n",
       "  'version',\n",
       "  '11',\n",
       "  'pl9',\n",
       "  'robert',\n",
       "  'jc',\n",
       "  'kyanko',\n",
       "  'rob',\n",
       "  'rjckuucp',\n",
       "  'wrote',\n",
       "  'abraxis',\n",
       "  'iastateedu',\n",
       "  'writes',\n",
       "  'in',\n",
       "  'article',\n",
       "  'abraxis734340159',\n",
       "  'class1iastateedu',\n",
       "  'anyone',\n",
       "  'know',\n",
       "  'about',\n",
       "  'the',\n",
       "  'weitek',\n",
       "  'p9000',\n",
       "  'graphics',\n",
       "  'chip',\n",
       "  'as',\n",
       "  'far',\n",
       "  'as',\n",
       "  'the',\n",
       "  'lowlevel',\n",
       "  'stuff',\n",
       "  'goes',\n",
       "  'it',\n",
       "  'looks',\n",
       "  'pretty',\n",
       "  'nice',\n",
       "  'it',\n",
       "  's',\n",
       "  'got',\n",
       "  'this',\n",
       "  'quadrilateral',\n",
       "  'fill',\n",
       "  'command',\n",
       "  'that',\n",
       "  'requires',\n",
       "  'just',\n",
       "  'the',\n",
       "  'four',\n",
       "  'points',\n",
       "  'do',\n",
       "  'you',\n",
       "  'have',\n",
       "  'weitek',\n",
       "  's',\n",
       "  'addressphone',\n",
       "  'number',\n",
       "  'i',\n",
       "  'd',\n",
       "  'like',\n",
       "  'to',\n",
       "  'get',\n",
       "  'some',\n",
       "  'information',\n",
       "  'about',\n",
       "  'this',\n",
       "  'chip',\n",
       "  'joe',\n",
       "  'green',\n",
       "  'harris',\n",
       "  'corporation',\n",
       "  'jgreen',\n",
       "  'csdharriscom',\n",
       "  'computer',\n",
       "  'systems',\n",
       "  'division',\n",
       "  'the',\n",
       "  'only',\n",
       "  'thing',\n",
       "  'that',\n",
       "  'really',\n",
       "  'scares',\n",
       "  'me',\n",
       "  'is',\n",
       "  'a',\n",
       "  'person',\n",
       "  'with',\n",
       "  'no',\n",
       "  'sense',\n",
       "  'of',\n",
       "  'humor',\n",
       "  'jonathan',\n",
       "  'winters']]"
      ]
     },
     "execution_count": 46,
     "metadata": {},
     "output_type": "execute_result"
    }
   ],
   "source": [
    "clean_text_3[:1]"
   ]
  },
  {
   "cell_type": "code",
   "execution_count": 18,
   "id": "f621f399",
   "metadata": {},
   "outputs": [
    {
     "name": "stderr",
     "output_type": "stream",
     "text": [
      "[nltk_data] Downloading package stopwords to\n",
      "[nltk_data]     C:\\Users\\Maneesh\\AppData\\Roaming\\nltk_data...\n",
      "[nltk_data]   Package stopwords is already up-to-date!\n"
     ]
    },
    {
     "data": {
      "text/plain": [
       "True"
      ]
     },
     "execution_count": 18,
     "metadata": {},
     "output_type": "execute_result"
    }
   ],
   "source": [
    "#Removing stopwords\n",
    "nltk.download('stopwords')"
   ]
  },
  {
   "cell_type": "code",
   "execution_count": 19,
   "id": "cced8a71",
   "metadata": {},
   "outputs": [],
   "source": [
    "from nltk.corpus import stopwords\n"
   ]
  },
  {
   "cell_type": "code",
   "execution_count": 21,
   "id": "ea17ad30",
   "metadata": {},
   "outputs": [],
   "source": [
    "clean_text_4= []\n",
    " \n",
    "for words in clean_text_3:\n",
    "    w= []\n",
    "    for word in words:\n",
    "        if not word in stopwords.words('english'):\n",
    "            w.append(word)\n",
    "        clean_text_4.append(w)"
   ]
  },
  {
   "cell_type": "code",
   "execution_count": 47,
   "id": "a2253f6e",
   "metadata": {},
   "outputs": [
    {
     "data": {
      "text/plain": [
       "[['jgreen',\n",
       "  'amber',\n",
       "  'joe',\n",
       "  'green',\n",
       "  'subject',\n",
       "  'weitek',\n",
       "  'p9000',\n",
       "  'organization',\n",
       "  'harris',\n",
       "  'computer',\n",
       "  'systems',\n",
       "  'division',\n",
       "  'lines',\n",
       "  '14',\n",
       "  'distribution',\n",
       "  'world',\n",
       "  'nntppostinghost',\n",
       "  'amberssdcsdharriscom',\n",
       "  'xnewsreader',\n",
       "  'tin',\n",
       "  'version',\n",
       "  '11',\n",
       "  'pl9',\n",
       "  'robert',\n",
       "  'jc',\n",
       "  'kyanko',\n",
       "  'rob',\n",
       "  'rjckuucp',\n",
       "  'wrote',\n",
       "  'abraxis',\n",
       "  'iastateedu',\n",
       "  'writes',\n",
       "  'article',\n",
       "  'abraxis734340159',\n",
       "  'class1iastateedu',\n",
       "  'anyone',\n",
       "  'know',\n",
       "  'weitek',\n",
       "  'p9000',\n",
       "  'graphics',\n",
       "  'chip',\n",
       "  'far',\n",
       "  'lowlevel',\n",
       "  'stuff',\n",
       "  'goes',\n",
       "  'looks',\n",
       "  'pretty',\n",
       "  'nice',\n",
       "  'got',\n",
       "  'quadrilateral',\n",
       "  'fill',\n",
       "  'command',\n",
       "  'requires',\n",
       "  'four',\n",
       "  'points',\n",
       "  'weitek',\n",
       "  'addressphone',\n",
       "  'number',\n",
       "  'like',\n",
       "  'get',\n",
       "  'information',\n",
       "  'chip',\n",
       "  'joe',\n",
       "  'green',\n",
       "  'harris',\n",
       "  'corporation',\n",
       "  'jgreen',\n",
       "  'csdharriscom',\n",
       "  'computer',\n",
       "  'systems',\n",
       "  'division',\n",
       "  'thing',\n",
       "  'really',\n",
       "  'scares',\n",
       "  'person',\n",
       "  'sense',\n",
       "  'humor',\n",
       "  'jonathan',\n",
       "  'winters']]"
      ]
     },
     "execution_count": 47,
     "metadata": {},
     "output_type": "execute_result"
    }
   ],
   "source": [
    "clean_text_4[:1]"
   ]
  },
  {
   "cell_type": "code",
   "execution_count": 23,
   "id": "68af064b",
   "metadata": {},
   "outputs": [],
   "source": [
    "# Stemming\n",
    "from nltk.stem.porter import PorterStemmer"
   ]
  },
  {
   "cell_type": "code",
   "execution_count": 24,
   "id": "de5741ce",
   "metadata": {},
   "outputs": [],
   "source": [
    "port = PorterStemmer()"
   ]
  },
  {
   "cell_type": "code",
   "execution_count": 26,
   "id": "0ab4445e",
   "metadata": {},
   "outputs": [
    {
     "data": {
      "text/plain": [
       "['read', 'wash', 'wash', 'drive']"
      ]
     },
     "execution_count": 26,
     "metadata": {},
     "output_type": "execute_result"
    }
   ],
   "source": [
    "a = [port.stem(i) for i in[\"reading\", \"washing\", \"wash\", \"Driving\"]]\n",
    "a"
   ]
  },
  {
   "cell_type": "code",
   "execution_count": 27,
   "id": "c0db98a7",
   "metadata": {},
   "outputs": [],
   "source": [
    "clean_text_5 = []\n",
    "for words in clean_text_4:\n",
    "    w= []\n",
    "    for word in words:\n",
    "        w.append(word)\n",
    "        clean_text_5.append(w)\n",
    "        "
   ]
  },
  {
   "cell_type": "code",
   "execution_count": 48,
   "id": "2432bbf6",
   "metadata": {},
   "outputs": [
    {
     "data": {
      "text/plain": [
       "[['jgreen',\n",
       "  'amber',\n",
       "  'joe',\n",
       "  'green',\n",
       "  'subject',\n",
       "  'weitek',\n",
       "  'p9000',\n",
       "  'organization',\n",
       "  'harris',\n",
       "  'computer',\n",
       "  'systems',\n",
       "  'division',\n",
       "  'lines',\n",
       "  '14',\n",
       "  'distribution',\n",
       "  'world',\n",
       "  'nntppostinghost',\n",
       "  'amberssdcsdharriscom',\n",
       "  'xnewsreader',\n",
       "  'tin',\n",
       "  'version',\n",
       "  '11',\n",
       "  'pl9',\n",
       "  'robert',\n",
       "  'jc',\n",
       "  'kyanko',\n",
       "  'rob',\n",
       "  'rjckuucp',\n",
       "  'wrote',\n",
       "  'abraxis',\n",
       "  'iastateedu',\n",
       "  'writes',\n",
       "  'article',\n",
       "  'abraxis734340159',\n",
       "  'class1iastateedu',\n",
       "  'anyone',\n",
       "  'know',\n",
       "  'weitek',\n",
       "  'p9000',\n",
       "  'graphics',\n",
       "  'chip',\n",
       "  'far',\n",
       "  'lowlevel',\n",
       "  'stuff',\n",
       "  'goes',\n",
       "  'looks',\n",
       "  'pretty',\n",
       "  'nice',\n",
       "  'got',\n",
       "  'quadrilateral',\n",
       "  'fill',\n",
       "  'command',\n",
       "  'requires',\n",
       "  'four',\n",
       "  'points',\n",
       "  'weitek',\n",
       "  'addressphone',\n",
       "  'number',\n",
       "  'like',\n",
       "  'get',\n",
       "  'information',\n",
       "  'chip',\n",
       "  'joe',\n",
       "  'green',\n",
       "  'harris',\n",
       "  'corporation',\n",
       "  'jgreen',\n",
       "  'csdharriscom',\n",
       "  'computer',\n",
       "  'systems',\n",
       "  'division',\n",
       "  'thing',\n",
       "  'really',\n",
       "  'scares',\n",
       "  'person',\n",
       "  'sense',\n",
       "  'humor',\n",
       "  'jonathan',\n",
       "  'winters']]"
      ]
     },
     "execution_count": 48,
     "metadata": {},
     "output_type": "execute_result"
    }
   ],
   "source": [
    "clean_text_5[:1]"
   ]
  },
  {
   "cell_type": "code",
   "execution_count": 30,
   "id": "08b4b583",
   "metadata": {},
   "outputs": [],
   "source": [
    "# Lemmatization\n",
    "from nltk.stem.wordnet import WordNetLemmatizer\n",
    "    "
   ]
  },
  {
   "cell_type": "code",
   "execution_count": 31,
   "id": "0e383c2a",
   "metadata": {},
   "outputs": [],
   "source": [
    "wnet = WordNetLemmatizer()"
   ]
  },
  {
   "cell_type": "code",
   "execution_count": 32,
   "id": "344b70c8",
   "metadata": {},
   "outputs": [
    {
     "name": "stderr",
     "output_type": "stream",
     "text": [
      "[nltk_data] Downloading package wordnet to\n",
      "[nltk_data]     C:\\Users\\Maneesh\\AppData\\Roaming\\nltk_data...\n",
      "[nltk_data]   Package wordnet is already up-to-date!\n"
     ]
    },
    {
     "data": {
      "text/plain": [
       "True"
      ]
     },
     "execution_count": 32,
     "metadata": {},
     "output_type": "execute_result"
    }
   ],
   "source": [
    "import nltk\n",
    "nltk.download('wordnet')"
   ]
  },
  {
   "cell_type": "code",
   "execution_count": 33,
   "id": "92bbf8f3",
   "metadata": {},
   "outputs": [],
   "source": [
    "lem = []\n",
    "for words in clean_text_4:\n",
    "    w= []\n",
    "    for word in words:\n",
    "        w.append(wnet.lemmatize(word))\n",
    "        lem.append(w)"
   ]
  },
  {
   "cell_type": "code",
   "execution_count": 49,
   "id": "3668791c",
   "metadata": {},
   "outputs": [
    {
     "data": {
      "text/plain": [
       "[['jgreen',\n",
       "  'amber',\n",
       "  'joe',\n",
       "  'green',\n",
       "  'subject',\n",
       "  'weitek',\n",
       "  'p9000',\n",
       "  'organization',\n",
       "  'harris',\n",
       "  'computer',\n",
       "  'system',\n",
       "  'division',\n",
       "  'line',\n",
       "  '14',\n",
       "  'distribution',\n",
       "  'world',\n",
       "  'nntppostinghost',\n",
       "  'amberssdcsdharriscom',\n",
       "  'xnewsreader',\n",
       "  'tin',\n",
       "  'version',\n",
       "  '11',\n",
       "  'pl9',\n",
       "  'robert',\n",
       "  'jc',\n",
       "  'kyanko',\n",
       "  'rob',\n",
       "  'rjckuucp',\n",
       "  'wrote',\n",
       "  'abraxis',\n",
       "  'iastateedu',\n",
       "  'writes',\n",
       "  'article',\n",
       "  'abraxis734340159',\n",
       "  'class1iastateedu',\n",
       "  'anyone',\n",
       "  'know',\n",
       "  'weitek',\n",
       "  'p9000',\n",
       "  'graphic',\n",
       "  'chip',\n",
       "  'far',\n",
       "  'lowlevel',\n",
       "  'stuff',\n",
       "  'go',\n",
       "  'look',\n",
       "  'pretty',\n",
       "  'nice',\n",
       "  'got',\n",
       "  'quadrilateral',\n",
       "  'fill',\n",
       "  'command',\n",
       "  'requires',\n",
       "  'four',\n",
       "  'point',\n",
       "  'weitek',\n",
       "  'addressphone',\n",
       "  'number',\n",
       "  'like',\n",
       "  'get',\n",
       "  'information',\n",
       "  'chip',\n",
       "  'joe',\n",
       "  'green',\n",
       "  'harris',\n",
       "  'corporation',\n",
       "  'jgreen',\n",
       "  'csdharriscom',\n",
       "  'computer',\n",
       "  'system',\n",
       "  'division',\n",
       "  'thing',\n",
       "  'really',\n",
       "  'scare',\n",
       "  'person',\n",
       "  'sense',\n",
       "  'humor',\n",
       "  'jonathan',\n",
       "  'winter']]"
      ]
     },
     "execution_count": 49,
     "metadata": {},
     "output_type": "execute_result"
    }
   ],
   "source": [
    "lem[:1]"
   ]
  },
  {
   "cell_type": "code",
   "execution_count": null,
   "id": "eae3de1b",
   "metadata": {},
   "outputs": [],
   "source": []
  }
 ],
 "metadata": {
  "kernelspec": {
   "display_name": "Python 3 (ipykernel)",
   "language": "python",
   "name": "python3"
  },
  "language_info": {
   "codemirror_mode": {
    "name": "ipython",
    "version": 3
   },
   "file_extension": ".py",
   "mimetype": "text/x-python",
   "name": "python",
   "nbconvert_exporter": "python",
   "pygments_lexer": "ipython3",
   "version": "3.9.7"
  }
 },
 "nbformat": 4,
 "nbformat_minor": 5
}
